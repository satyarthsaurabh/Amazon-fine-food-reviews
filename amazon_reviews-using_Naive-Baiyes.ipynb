{
 "cells": [
  {
   "cell_type": "code",
   "execution_count": 1,
   "metadata": {},
   "outputs": [],
   "source": [
    "import warnings\n",
    "warnings.filterwarnings('ignore')\n",
    "\n",
    "import pandas as pd\n",
    "import numpy as np\n",
    "import seaborn as sns\n",
    "import matplotlib.pyplot as plt\n",
    "%matplotlib inline\n",
    "\n",
    "import string\n",
    "import sqlite3\n",
    "import nltk\n",
    "\n",
    "from sklearn.feature_extraction.text import TfidfTransformer\n",
    "from sklearn.feature_extraction.text import TfidfVectorizer\n",
    "from sklearn.feature_extraction.text import CountVectorizer\n",
    "\n",
    "from sklearn.metrics import confusion_matrix\n",
    "from sklearn import metrics\n",
    "from sklearn.metrics import roc_curve, auc\n",
    "\n",
    "import re # Tutorial about Python regular expression: http://pymotw.com/2/re/\n",
    "\n",
    "from nltk.corpus import stopwords\n",
    "from nltk.stem.wordnet import WordNetLemmatizer\n",
    "from nltk.stem.porter import PorterStemmer\n",
    "\n",
    "from gensim.models import Word2Vec\n",
    "from gensim.models import KeyedVectors\n",
    "import pickle\n",
    "\n",
    "from tqdm import tqdm\n",
    "import os\n"
   ]
  },
  {
   "cell_type": "markdown",
   "metadata": {},
   "source": [
    "## Loading data "
   ]
  },
  {
   "cell_type": "code",
   "execution_count": 2,
   "metadata": {},
   "outputs": [],
   "source": [
    "con = sqlite3.connect('final.sqlite')"
   ]
  },
  {
   "cell_type": "code",
   "execution_count": 3,
   "metadata": {},
   "outputs": [
    {
     "data": {
      "text/html": [
       "<div>\n",
       "<style scoped>\n",
       "    .dataframe tbody tr th:only-of-type {\n",
       "        vertical-align: middle;\n",
       "    }\n",
       "\n",
       "    .dataframe tbody tr th {\n",
       "        vertical-align: top;\n",
       "    }\n",
       "\n",
       "    .dataframe thead th {\n",
       "        text-align: right;\n",
       "    }\n",
       "</style>\n",
       "<table border=\"1\" class=\"dataframe\">\n",
       "  <thead>\n",
       "    <tr style=\"text-align: right;\">\n",
       "      <th></th>\n",
       "      <th>index</th>\n",
       "      <th>Id</th>\n",
       "      <th>ProductId</th>\n",
       "      <th>UserId</th>\n",
       "      <th>ProfileName</th>\n",
       "      <th>HelpfulnessNumerator</th>\n",
       "      <th>HelpfulnessDenominator</th>\n",
       "      <th>Score</th>\n",
       "      <th>Time</th>\n",
       "      <th>Summary</th>\n",
       "      <th>Text</th>\n",
       "      <th>cleanedtext</th>\n",
       "      <th>cleanedsummary</th>\n",
       "    </tr>\n",
       "  </thead>\n",
       "  <tbody>\n",
       "    <tr>\n",
       "      <td>0</td>\n",
       "      <td>138706</td>\n",
       "      <td>150524</td>\n",
       "      <td>0006641040</td>\n",
       "      <td>ACITT7DI6IDDL</td>\n",
       "      <td>shari zychinski</td>\n",
       "      <td>0</td>\n",
       "      <td>0</td>\n",
       "      <td>1</td>\n",
       "      <td>939340800</td>\n",
       "      <td>EVERY book is educational</td>\n",
       "      <td>this witty little book makes my son laugh at l...</td>\n",
       "      <td>witty little book makes son laugh loud recite ...</td>\n",
       "      <td>every book educational</td>\n",
       "    </tr>\n",
       "    <tr>\n",
       "      <td>1</td>\n",
       "      <td>138688</td>\n",
       "      <td>150506</td>\n",
       "      <td>0006641040</td>\n",
       "      <td>A2IW4PEEKO2R0U</td>\n",
       "      <td>Tracy</td>\n",
       "      <td>1</td>\n",
       "      <td>1</td>\n",
       "      <td>1</td>\n",
       "      <td>1194739200</td>\n",
       "      <td>Love the book, miss the hard cover version</td>\n",
       "      <td>I grew up reading these Sendak books, and watc...</td>\n",
       "      <td>grew reading sendak books watching really rosi...</td>\n",
       "      <td>love book miss hard cover version</td>\n",
       "    </tr>\n",
       "    <tr>\n",
       "      <td>2</td>\n",
       "      <td>138689</td>\n",
       "      <td>150507</td>\n",
       "      <td>0006641040</td>\n",
       "      <td>A1S4A3IQ2MU7V4</td>\n",
       "      <td>sally sue \"sally sue\"</td>\n",
       "      <td>1</td>\n",
       "      <td>1</td>\n",
       "      <td>1</td>\n",
       "      <td>1191456000</td>\n",
       "      <td>chicken soup with rice months</td>\n",
       "      <td>This is a fun way for children to learn their ...</td>\n",
       "      <td>fun way children learn months year learn poems...</td>\n",
       "      <td>chicken soup rice months</td>\n",
       "    </tr>\n",
       "    <tr>\n",
       "      <td>3</td>\n",
       "      <td>138690</td>\n",
       "      <td>150508</td>\n",
       "      <td>0006641040</td>\n",
       "      <td>AZGXZ2UUK6X</td>\n",
       "      <td>Catherine Hallberg \"(Kate)\"</td>\n",
       "      <td>1</td>\n",
       "      <td>1</td>\n",
       "      <td>1</td>\n",
       "      <td>1076025600</td>\n",
       "      <td>a good swingy rhythm for reading aloud</td>\n",
       "      <td>This is a great little book to read aloud- it ...</td>\n",
       "      <td>great little book read aloud nice rhythm well ...</td>\n",
       "      <td>good swingy rhythm reading aloud</td>\n",
       "    </tr>\n",
       "    <tr>\n",
       "      <td>4</td>\n",
       "      <td>138691</td>\n",
       "      <td>150509</td>\n",
       "      <td>0006641040</td>\n",
       "      <td>A3CMRKGE0P909G</td>\n",
       "      <td>Teresa</td>\n",
       "      <td>3</td>\n",
       "      <td>4</td>\n",
       "      <td>1</td>\n",
       "      <td>1018396800</td>\n",
       "      <td>A great way to learn the months</td>\n",
       "      <td>This is a book of poetry about the months of t...</td>\n",
       "      <td>book poetry months year goes month cute little...</td>\n",
       "      <td>great way learn months</td>\n",
       "    </tr>\n",
       "  </tbody>\n",
       "</table>\n",
       "</div>"
      ],
      "text/plain": [
       "    index      Id   ProductId          UserId                  ProfileName  \\\n",
       "0  138706  150524  0006641040   ACITT7DI6IDDL              shari zychinski   \n",
       "1  138688  150506  0006641040  A2IW4PEEKO2R0U                        Tracy   \n",
       "2  138689  150507  0006641040  A1S4A3IQ2MU7V4        sally sue \"sally sue\"   \n",
       "3  138690  150508  0006641040     AZGXZ2UUK6X  Catherine Hallberg \"(Kate)\"   \n",
       "4  138691  150509  0006641040  A3CMRKGE0P909G                       Teresa   \n",
       "\n",
       "   HelpfulnessNumerator  HelpfulnessDenominator  Score        Time  \\\n",
       "0                     0                       0      1   939340800   \n",
       "1                     1                       1      1  1194739200   \n",
       "2                     1                       1      1  1191456000   \n",
       "3                     1                       1      1  1076025600   \n",
       "4                     3                       4      1  1018396800   \n",
       "\n",
       "                                      Summary  \\\n",
       "0                   EVERY book is educational   \n",
       "1  Love the book, miss the hard cover version   \n",
       "2               chicken soup with rice months   \n",
       "3      a good swingy rhythm for reading aloud   \n",
       "4             A great way to learn the months   \n",
       "\n",
       "                                                Text  \\\n",
       "0  this witty little book makes my son laugh at l...   \n",
       "1  I grew up reading these Sendak books, and watc...   \n",
       "2  This is a fun way for children to learn their ...   \n",
       "3  This is a great little book to read aloud- it ...   \n",
       "4  This is a book of poetry about the months of t...   \n",
       "\n",
       "                                         cleanedtext  \\\n",
       "0  witty little book makes son laugh loud recite ...   \n",
       "1  grew reading sendak books watching really rosi...   \n",
       "2  fun way children learn months year learn poems...   \n",
       "3  great little book read aloud nice rhythm well ...   \n",
       "4  book poetry months year goes month cute little...   \n",
       "\n",
       "                      cleanedsummary  \n",
       "0             every book educational  \n",
       "1  love book miss hard cover version  \n",
       "2           chicken soup rice months  \n",
       "3   good swingy rhythm reading aloud  \n",
       "4             great way learn months  "
      ]
     },
     "execution_count": 3,
     "metadata": {},
     "output_type": "execute_result"
    }
   ],
   "source": [
    "data = pd.read_sql_query(\"\"\" SELECT * FROM Reviews WHERE Score != 3\"\"\", con) \n",
    "data.head()"
   ]
  },
  {
   "cell_type": "code",
   "execution_count": 5,
   "metadata": {},
   "outputs": [
    {
     "name": "stdout",
     "output_type": "stream",
     "text": [
      "(364171, 13)\n",
      "1    307061\n",
      "0     57110\n",
      "Name: Score, dtype: int64\n"
     ]
    }
   ],
   "source": [
    "print(data.shape) # the no. of rows and columums of dataset\n",
    "print(data['Score'].value_counts()) # the number of positive and negative dataset\n"
   ]
  },
  {
   "cell_type": "code",
   "execution_count": 9,
   "metadata": {},
   "outputs": [
    {
     "data": {
      "text/plain": [
       "(100000, 13)"
      ]
     },
     "execution_count": 9,
     "metadata": {},
     "output_type": "execute_result"
    }
   ],
   "source": [
    "# randomly sample positive and negative reviews\n",
    "# And take the 50k sample each of positive and negative review resp randomly\n",
    "positive_data = data[data['Score'] == 1].sample(n = 50000)\n",
    "negative_data = data[data['Score'] == 0].sample(n = 50000)\n",
    "final_data = pd.concat([positive_data, negative_data])\n",
    "final_data.shape"
   ]
  },
  {
   "cell_type": "code",
   "execution_count": 11,
   "metadata": {},
   "outputs": [
    {
     "data": {
      "text/html": [
       "<div>\n",
       "<style scoped>\n",
       "    .dataframe tbody tr th:only-of-type {\n",
       "        vertical-align: middle;\n",
       "    }\n",
       "\n",
       "    .dataframe tbody tr th {\n",
       "        vertical-align: top;\n",
       "    }\n",
       "\n",
       "    .dataframe thead th {\n",
       "        text-align: right;\n",
       "    }\n",
       "</style>\n",
       "<table border=\"1\" class=\"dataframe\">\n",
       "  <thead>\n",
       "    <tr style=\"text-align: right;\">\n",
       "      <th></th>\n",
       "      <th>index</th>\n",
       "      <th>Id</th>\n",
       "      <th>ProductId</th>\n",
       "      <th>UserId</th>\n",
       "      <th>ProfileName</th>\n",
       "      <th>HelpfulnessNumerator</th>\n",
       "      <th>HelpfulnessDenominator</th>\n",
       "      <th>Score</th>\n",
       "      <th>Time</th>\n",
       "      <th>Summary</th>\n",
       "      <th>Text</th>\n",
       "      <th>cleanedtext</th>\n",
       "      <th>cleanedsummary</th>\n",
       "    </tr>\n",
       "  </thead>\n",
       "  <tbody>\n",
       "    <tr>\n",
       "      <td>308</td>\n",
       "      <td>346041</td>\n",
       "      <td>374343</td>\n",
       "      <td>B00004CI84</td>\n",
       "      <td>A1B2IZU1JLZA6</td>\n",
       "      <td>Wes</td>\n",
       "      <td>19</td>\n",
       "      <td>23</td>\n",
       "      <td>0</td>\n",
       "      <td>2000-01-19</td>\n",
       "      <td>WARNING: CLAMSHELL EDITION IS EDITED TV VERSION</td>\n",
       "      <td>I, myself always enjoyed this movie, it's very...</td>\n",
       "      <td>always enjoyed movie funny entertaining hesita...</td>\n",
       "      <td>warning clamshell edition edited tv version</td>\n",
       "    </tr>\n",
       "    <tr>\n",
       "      <td>325</td>\n",
       "      <td>346094</td>\n",
       "      <td>374400</td>\n",
       "      <td>B00004CI84</td>\n",
       "      <td>A2DEE7F9XKP3ZR</td>\n",
       "      <td>jerome</td>\n",
       "      <td>0</td>\n",
       "      <td>3</td>\n",
       "      <td>1</td>\n",
       "      <td>2000-06-03</td>\n",
       "      <td>Research - Beatlejuice video - French version</td>\n",
       "      <td>I'm getting crazy.I'm looking for Beatlejuice ...</td>\n",
       "      <td>getting crazy looking beatlejuice french versi...</td>\n",
       "      <td>research beatlejuice video french version</td>\n",
       "    </tr>\n",
       "    <tr>\n",
       "      <td>837</td>\n",
       "      <td>138001</td>\n",
       "      <td>149770</td>\n",
       "      <td>B00004S1C5</td>\n",
       "      <td>A1KXONFPU2XQ5K</td>\n",
       "      <td>Stephanie Manley</td>\n",
       "      <td>8</td>\n",
       "      <td>8</td>\n",
       "      <td>1</td>\n",
       "      <td>2000-08-09</td>\n",
       "      <td>Very easy to use</td>\n",
       "      <td>This are so much easier to use than the Wilson...</td>\n",
       "      <td>much easier use wilson paste colors colors vib...</td>\n",
       "      <td>easy use</td>\n",
       "    </tr>\n",
       "    <tr>\n",
       "      <td>296</td>\n",
       "      <td>346102</td>\n",
       "      <td>374408</td>\n",
       "      <td>B00004CI84</td>\n",
       "      <td>A1GB1Q193DNFGR</td>\n",
       "      <td>Bruce Lee Pullen</td>\n",
       "      <td>5</td>\n",
       "      <td>5</td>\n",
       "      <td>1</td>\n",
       "      <td>2000-10-03</td>\n",
       "      <td>Fabulous Comedic Fanasy Directed by a Master</td>\n",
       "      <td>Beetlejuice is an awe-inspiring wonderfully am...</td>\n",
       "      <td>beetlejuice awe inspiring wonderfully amusing ...</td>\n",
       "      <td>fabulous comedic fanasy directed master</td>\n",
       "    </tr>\n",
       "    <tr>\n",
       "      <td>425</td>\n",
       "      <td>417901</td>\n",
       "      <td>451923</td>\n",
       "      <td>B00004CXX9</td>\n",
       "      <td>ANIMV3SPDD8SH</td>\n",
       "      <td>Guy De Federicis</td>\n",
       "      <td>1</td>\n",
       "      <td>12</td>\n",
       "      <td>0</td>\n",
       "      <td>2001-06-11</td>\n",
       "      <td>CASPER IS THE GHOST WITH THE MOST</td>\n",
       "      <td>Michael Keaton brings no distinguishing charac...</td>\n",
       "      <td>michael keaton brings distinguishing character...</td>\n",
       "      <td>casper ghost</td>\n",
       "    </tr>\n",
       "  </tbody>\n",
       "</table>\n",
       "</div>"
      ],
      "text/plain": [
       "      index      Id   ProductId          UserId       ProfileName  \\\n",
       "308  346041  374343  B00004CI84   A1B2IZU1JLZA6               Wes   \n",
       "325  346094  374400  B00004CI84  A2DEE7F9XKP3ZR            jerome   \n",
       "837  138001  149770  B00004S1C5  A1KXONFPU2XQ5K  Stephanie Manley   \n",
       "296  346102  374408  B00004CI84  A1GB1Q193DNFGR  Bruce Lee Pullen   \n",
       "425  417901  451923  B00004CXX9   ANIMV3SPDD8SH  Guy De Federicis   \n",
       "\n",
       "     HelpfulnessNumerator  HelpfulnessDenominator  Score       Time  \\\n",
       "308                    19                      23      0 2000-01-19   \n",
       "325                     0                       3      1 2000-06-03   \n",
       "837                     8                       8      1 2000-08-09   \n",
       "296                     5                       5      1 2000-10-03   \n",
       "425                     1                      12      0 2001-06-11   \n",
       "\n",
       "                                             Summary  \\\n",
       "308  WARNING: CLAMSHELL EDITION IS EDITED TV VERSION   \n",
       "325    Research - Beatlejuice video - French version   \n",
       "837                                 Very easy to use   \n",
       "296     Fabulous Comedic Fanasy Directed by a Master   \n",
       "425                CASPER IS THE GHOST WITH THE MOST   \n",
       "\n",
       "                                                  Text  \\\n",
       "308  I, myself always enjoyed this movie, it's very...   \n",
       "325  I'm getting crazy.I'm looking for Beatlejuice ...   \n",
       "837  This are so much easier to use than the Wilson...   \n",
       "296  Beetlejuice is an awe-inspiring wonderfully am...   \n",
       "425  Michael Keaton brings no distinguishing charac...   \n",
       "\n",
       "                                           cleanedtext  \\\n",
       "308  always enjoyed movie funny entertaining hesita...   \n",
       "325  getting crazy looking beatlejuice french versi...   \n",
       "837  much easier use wilson paste colors colors vib...   \n",
       "296  beetlejuice awe inspiring wonderfully amusing ...   \n",
       "425  michael keaton brings distinguishing character...   \n",
       "\n",
       "                                  cleanedsummary  \n",
       "308  warning clamshell edition edited tv version  \n",
       "325    research beatlejuice video french version  \n",
       "837                                     easy use  \n",
       "296      fabulous comedic fanasy directed master  \n",
       "425                                 casper ghost  "
      ]
     },
     "execution_count": 11,
     "metadata": {},
     "output_type": "execute_result"
    }
   ],
   "source": [
    "# sort the data based on time\n",
    "final_data['Time'] = pd.to_datetime(final_data['Time'], unit='s')\n",
    "final_data = final_data.sort_values(by = 'Time')\n",
    "final_data.head()"
   ]
  },
  {
   "cell_type": "markdown",
   "metadata": {},
   "source": [
    "# spliting the data"
   ]
  },
  {
   "cell_type": "code",
   "execution_count": 25,
   "metadata": {},
   "outputs": [
    {
     "name": "stdout",
     "output_type": "stream",
     "text": [
      "The shape of X :  (100000,)\n",
      "The shape of y :  (100000,)\n"
     ]
    }
   ],
   "source": [
    "X = final_data['cleanedtext']\n",
    "y = final_data['Score']\n",
    "print('The shape of X : ', X.shape)\n",
    "print('The shape of y : ', y.shape)\n",
    "\n",
    "\n",
    "# Spliting the data\n",
    "\n",
    "from sklearn.model_selection import train_test_split\n",
    "X_train, X_test, y_train, y_test = train_test_split(X, y, random_state=42, test_size=0.3)"
   ]
  },
  {
   "cell_type": "code",
   "execution_count": 26,
   "metadata": {},
   "outputs": [
    {
     "name": "stdout",
     "output_type": "stream",
     "text": [
      "the shape of X_train : (70000,)\n",
      "the shape of y_train  (70000,)\n",
      "the shape of X_test  (30000,)\n",
      "the shpa fo y_test  (30000,)\n"
     ]
    }
   ],
   "source": [
    "print('the shape of X_train :',X_train.shape)\n",
    "print('the shape of y_train ', y_train.shape)\n",
    "print('the shape of X_test ',X_test.shape)\n",
    "print('the shpa fo y_test ',y_test.shape)"
   ]
  },
  {
   "cell_type": "markdown",
   "metadata": {},
   "source": [
    "### Naive Bayes using Bag of word"
   ]
  },
  {
   "cell_type": "code",
   "execution_count": 27,
   "metadata": {},
   "outputs": [
    {
     "data": {
      "text/plain": [
       "<70000x51633 sparse matrix of type '<class 'numpy.int64'>'\n",
       "\twith 2325238 stored elements in Compressed Sparse Row format>"
      ]
     },
     "execution_count": 27,
     "metadata": {},
     "output_type": "execute_result"
    }
   ],
   "source": [
    "# Train vectorize\n",
    "bow = CountVectorizer()\n",
    "X_train = bow.fit_transform(X_train)\n",
    "X_train\n"
   ]
  },
  {
   "cell_type": "code",
   "execution_count": 28,
   "metadata": {},
   "outputs": [
    {
     "data": {
      "text/plain": [
       "<30000x51633 sparse matrix of type '<class 'numpy.int64'>'\n",
       "\twith 992500 stored elements in Compressed Sparse Row format>"
      ]
     },
     "execution_count": 28,
     "metadata": {},
     "output_type": "execute_result"
    }
   ],
   "source": [
    "# Test vectorize\n",
    "X_test = bow.transform(X_test)\n",
    "X_test"
   ]
  },
  {
   "cell_type": "code",
   "execution_count": 29,
   "metadata": {
    "scrolled": true
   },
   "outputs": [
    {
     "name": "stdout",
     "output_type": "stream",
     "text": [
      "(70000, 51633)\n",
      "(30000, 51633)\n"
     ]
    }
   ],
   "source": [
    "print(X_train.shape)\n",
    "print(X_test.shape)"
   ]
  },
  {
   "cell_type": "code",
   "execution_count": 30,
   "metadata": {},
   "outputs": [
    {
     "data": {
      "text/plain": [
       "MultinomialNB(alpha=1, class_prior=None, fit_prior=True)"
      ]
     },
     "execution_count": 30,
     "metadata": {},
     "output_type": "execute_result"
    }
   ],
   "source": [
    "from sklearn.naive_bayes import MultinomialNB\n",
    "clf = MultinomialNB(alpha = 1)\n",
    "\n",
    "# fitting the model\n",
    "clf.fit(X_train, y_train)\n",
    "\n"
   ]
  },
  {
   "cell_type": "code",
   "execution_count": 31,
   "metadata": {},
   "outputs": [],
   "source": [
    "\n",
    "# predict the response\n",
    "pred = clf.predict(X_test)"
   ]
  },
  {
   "cell_type": "code",
   "execution_count": 39,
   "metadata": {},
   "outputs": [],
   "source": [
    "# To get all the features name \n",
    "bow_features = bow.get_feature_names()\n"
   ]
  },
  {
   "cell_type": "code",
   "execution_count": 33,
   "metadata": {},
   "outputs": [
    {
     "data": {
      "text/plain": [
       "(2, 51633)"
      ]
     },
     "execution_count": 33,
     "metadata": {},
     "output_type": "execute_result"
    }
   ],
   "source": [
    "feat_count = clf.feature_count_\n",
    "feat_count.shape"
   ]
  },
  {
   "cell_type": "code",
   "execution_count": 34,
   "metadata": {},
   "outputs": [
    {
     "data": {
      "text/plain": [
       "array([[8., 1., 2., ..., 0., 0., 0.],\n",
       "       [6., 2., 0., ..., 2., 1., 1.]])"
      ]
     },
     "execution_count": 34,
     "metadata": {},
     "output_type": "execute_result"
    }
   ],
   "source": [
    "feat_count"
   ]
  },
  {
   "cell_type": "code",
   "execution_count": 51,
   "metadata": {},
   "outputs": [
    {
     "name": "stdout",
     "output_type": "stream",
     "text": [
      "[34996. 35004.]\n",
      "\n",
      "[0 1]\n"
     ]
    }
   ],
   "source": [
    "# print the class count of each review in positive and negative class\n",
    "print(clf.class_count_)\n",
    "print()\n",
    "print(clf.classes_)"
   ]
  },
  {
   "cell_type": "code",
   "execution_count": 37,
   "metadata": {},
   "outputs": [
    {
     "name": "stdout",
     "output_type": "stream",
     "text": [
      "(2, 51633)\n"
     ]
    },
    {
     "data": {
      "text/plain": [
       "array([[-12.01453206, -13.51860945, -13.11314435, ..., -14.21175663,\n",
       "        -14.21175663, -14.21175663],\n",
       "       [-12.18638875, -13.03368661, -14.1322989 , ..., -13.03368661,\n",
       "        -13.43915172, -13.43915172]])"
      ]
     },
     "execution_count": 37,
     "metadata": {},
     "output_type": "execute_result"
    }
   ],
   "source": [
    "log_prob = clf.feature_log_prob_\n",
    "print(log_prob.shape)\n",
    "log_prob"
   ]
  },
  {
   "cell_type": "code",
   "execution_count": 40,
   "metadata": {},
   "outputs": [
    {
     "data": {
      "text/plain": [
       "(51633, 2)"
      ]
     },
     "execution_count": 40,
     "metadata": {},
     "output_type": "execute_result"
    }
   ],
   "source": [
    "feature_prob = pd.DataFrame(log_prob, columns=bow_features)\n",
    "feature_prob_trans = feature_prob.T\n",
    "feature_prob_trans.shape"
   ]
  },
  {
   "cell_type": "code",
   "execution_count": 45,
   "metadata": {},
   "outputs": [
    {
     "name": "stdout",
     "output_type": "stream",
     "text": [
      "Top 10 negative feature:- \n",
      " like      -4.379067\n",
      "product   -4.643532\n",
      "taste     -4.670603\n",
      "would     -4.799047\n",
      "one       -4.856364\n",
      "good      -5.090466\n",
      "coffee    -5.144479\n",
      "flavor    -5.153053\n",
      "get       -5.394163\n",
      "even      -5.400850\n",
      "Name: 0, dtype: float64\n",
      "\n",
      "\n",
      "Top 10 positive feature:- \n",
      " like      -4.568840\n",
      "good      -4.683335\n",
      "great     -4.753736\n",
      "one       -4.895706\n",
      "taste     -4.968736\n",
      "coffee    -5.059039\n",
      "love      -5.081658\n",
      "product   -5.082245\n",
      "flavor    -5.086008\n",
      "tea       -5.091206\n",
      "Name: 1, dtype: float64\n"
     ]
    }
   ],
   "source": [
    "# To show top 10 feature from both class\n",
    "# Feature importance\n",
    "print(\"Top 10 negative feature:- \\n\",feature_prob_trans[0].sort_values(ascending = False)[:10])\n",
    "print()\n",
    "print()\n",
    "print(\"Top 10 positive feature:- \\n\",feature_prob_trans[1].sort_values(ascending = False)[:10])"
   ]
  },
  {
   "cell_type": "markdown",
   "metadata": {},
   "source": [
    "### Naive baiye using optimised alpha"
   ]
  },
  {
   "cell_type": "code",
   "execution_count": 46,
   "metadata": {},
   "outputs": [],
   "source": [
    "# Find the optimal alpha\n",
    "\n",
    "from sklearn.model_selection import cross_val_score\n",
    "\n",
    "def naive_baiyes(X_train, y_train):\n",
    "    alpha_values = np.arange(1, 100, 0.5)\n",
    "    \n",
    "    # empty list that will hold CV scores\n",
    "    cv_scores = []\n",
    "    \n",
    "    # perform 10-fold cross-validation\n",
    "    for alpha in alpha_values:\n",
    "        mnb = MultinomialNB(alpha = alpha)\n",
    "        scores = cross_val_score(mnb, X_train, y_train, scoring='accuracy')\n",
    "        cv_scores.append(scores.mean())\n",
    "    \n",
    "    MSE = [1-x for x in cv_scores]\n",
    "    best_alpha = alpha_values[MSE.index(min(MSE))]\n",
    "    return best_alpha, MSE"
   ]
  },
  {
   "cell_type": "code",
   "execution_count": 50,
   "metadata": {},
   "outputs": [
    {
     "name": "stdout",
     "output_type": "stream",
     "text": [
      "The best alpha : 10.0\n"
     ]
    },
    {
     "data": {
      "text/plain": [
       "Text(0.5, 1.0, 'Misclassification Error vs alpha')"
      ]
     },
     "execution_count": 50,
     "metadata": {},
     "output_type": "execute_result"
    },
    {
     "data": {
      "image/png": "[encoded data removed]",
      "text/plain": [
       "<Figure size 432x288 with 1 Axes>"
      ]
     },
     "metadata": {
      "needs_background": "light"
     },
     "output_type": "display_data"
    }
   ],
   "source": [
    "# best_alpha, MSE = naive_baiyes(X_train, y_train)\n",
    "alpha_values = np.arange(1, 100, 0.5)\n",
    "print(\"The best alpha :\", best_alpha)\n",
    "# plot the graph b/w misclassification and alpha_value\n",
    "plt.plot(alpha_values, MSE, marker = '*')\n",
    "plt.xlabel(\"value of alpha\")\n",
    "plt.ylabel(\"Misclassification Error\")\n",
    "plt.title(\"Misclassification Error vs alpha\")"
   ]
  },
  {
   "cell_type": "code",
   "execution_count": 53,
   "metadata": {},
   "outputs": [
    {
     "data": {
      "text/plain": [
       "MultinomialNB(alpha=10.0, class_prior=None, fit_prior=True)"
      ]
     },
     "execution_count": 53,
     "metadata": {},
     "output_type": "execute_result"
    }
   ],
   "source": [
    "best_clf = MultinomialNB(alpha = best_alpha)\n",
    "\n",
    "# fitting the model\n",
    "best_clf.fit(X_train, y_train)\n",
    "\n"
   ]
  },
  {
   "cell_type": "code",
   "execution_count": 54,
   "metadata": {},
   "outputs": [],
   "source": [
    "# predict the response\n",
    "best_pred = best_clf.predict(X_test)"
   ]
  },
  {
   "cell_type": "code",
   "execution_count": 58,
   "metadata": {},
   "outputs": [
    {
     "name": "stdout",
     "output_type": "stream",
     "text": [
      "(2, 51633)\n"
     ]
    },
    {
     "data": {
      "text/plain": [
       "array([[8., 1., 2., ..., 0., 0., 0.],\n",
       "       [6., 2., 0., ..., 2., 1., 1.]])"
      ]
     },
     "execution_count": 58,
     "metadata": {},
     "output_type": "execute_result"
    }
   ],
   "source": [
    "# To count feature for each class while fitting the model\n",
    "best_feat_count = best_clf.feature_count_\n",
    "print(best_feat_count.shape)\n",
    "best_feat_count"
   ]
  },
  {
   "cell_type": "code",
   "execution_count": 56,
   "metadata": {},
   "outputs": [
    {
     "name": "stdout",
     "output_type": "stream",
     "text": [
      "(2, 51633)\n"
     ]
    },
    {
     "data": {
      "text/plain": [
       "array([[-11.59344601, -12.08592249, -11.99891112, ..., -12.18123267,\n",
       "        -12.18123267, -12.18123267],\n",
       "       [-11.65127826, -11.93896034, -12.12128189, ..., -11.93896034,\n",
       "        -12.02597171, -12.02597171]])"
      ]
     },
     "execution_count": 56,
     "metadata": {},
     "output_type": "execute_result"
    }
   ],
   "source": [
    "log_prob = best_clf.feature_log_prob_\n",
    "print(log_prob.shape)\n",
    "log_prob"
   ]
  },
  {
   "cell_type": "code",
   "execution_count": 59,
   "metadata": {},
   "outputs": [
    {
     "data": {
      "text/plain": [
       "(51633, 2)"
      ]
     },
     "execution_count": 59,
     "metadata": {},
     "output_type": "execute_result"
    }
   ],
   "source": [
    "feature_prob = pd.DataFrame(log_prob, columns=bow_features)\n",
    "feature_prob_trans = feature_prob.T\n",
    "feature_prob_trans.shape"
   ]
  },
  {
   "cell_type": "code",
   "execution_count": 60,
   "metadata": {},
   "outputs": [
    {
     "name": "stdout",
     "output_type": "stream",
     "text": [
      "Top 10 negative feature:- \n",
      " like      -4.650645\n",
      "product   -4.914964\n",
      "taste     -4.942018\n",
      "would     -5.070373\n",
      "one       -5.127647\n",
      "good      -5.361544\n",
      "coffee    -5.415502\n",
      "flavor    -5.424068\n",
      "get       -5.664892\n",
      "even      -5.671570\n",
      "Name: 0, dtype: float64\n",
      "\n",
      "\n",
      "Top 10 positive feature:- \n",
      " like      -4.859776\n",
      "good      -4.974195\n",
      "great     -5.044544\n",
      "one       -5.186398\n",
      "taste     -5.259361\n",
      "coffee    -5.349575\n",
      "love      -5.372171\n",
      "product   -5.372757\n",
      "flavor    -5.376516\n",
      "tea       -5.381709\n",
      "Name: 1, dtype: float64\n"
     ]
    }
   ],
   "source": [
    "# To show top 10 feature from both class\n",
    "# Feature importance\n",
    "print(\"Top 10 negative feature:- \\n\",feature_prob_trans[0].sort_values(ascending = False)[:10])\n",
    "print()\n",
    "print()\n",
    "print(\"Top 10 positive feature:- \\n\",feature_prob_trans[1].sort_values(ascending = False)[:10])"
   ]
  },
  {
   "cell_type": "code",
   "execution_count": 65,
   "metadata": {},
   "outputs": [
    {
     "name": "stdout",
     "output_type": "stream",
     "text": [
      "Accuracy with alpha = 10:-  0.8785\n",
      "Accuracy with alpha = 1:-  0.8919571428571429\n"
     ]
    }
   ],
   "source": [
    "# Accuracy on train data\n",
    "train_acc_bow = best_clf.score(X_train, y_train)\n",
    "print(\"Accuracy with alpha = 10:- \",train_acc_bow)\n",
    "accuracy_alpha_1 = clf.score(X_train, y_train)\n",
    "print(\"Accuracy with alpha = 1:- \", accuracy_alpha_1)"
   ]
  },
  {
   "cell_type": "code",
   "execution_count": 66,
   "metadata": {},
   "outputs": [
    {
     "name": "stdout",
     "output_type": "stream",
     "text": [
      "Error with alpha=1 :-  0.10804285714285711\n",
      "Error with alpha=10 :-  0.12150000000000005\n"
     ]
    }
   ],
   "source": [
    "# Error on train data\n",
    "train_err_bow = 1-train_acc_bow\n",
    "error_alpha_1 = 1-accuracy_alpha_1\n",
    "print(\"Error with alpha=1 :- \",error_alpha_1 )\n",
    "print(\"Error with alpha=10 :- \",train_err_bow )"
   ]
  },
  {
   "cell_type": "code",
   "execution_count": 69,
   "metadata": {},
   "outputs": [
    {
     "name": "stdout",
     "output_type": "stream",
     "text": [
      "Accuracy of NBclassifier for alpha=10.0 is 0.8648666666666667 \n"
     ]
    }
   ],
   "source": [
    "# Evaluate accuracy on test data\n",
    "from sklearn.metrics import accuracy_score\n",
    "test_acc_bow = accuracy_score(y_test, pred)\n",
    "print(\"Accuracy of NBclassifier for alpha={} is {} \".format(best_alpha, test_acc_bow))"
   ]
  },
  {
   "cell_type": "code",
   "execution_count": 70,
   "metadata": {},
   "outputs": [
    {
     "data": {
      "text/plain": [
       "array([[12700,  2304],\n",
       "       [ 1750, 13246]], dtype=int64)"
      ]
     },
     "execution_count": 70,
     "metadata": {},
     "output_type": "execute_result"
    }
   ],
   "source": [
    "confusion_mat = confusion_matrix(y_test, pred)\n",
    "confusion_mat\n"
   ]
  },
  {
   "cell_type": "code",
   "execution_count": 71,
   "metadata": {},
   "outputs": [
    {
     "name": "stdout",
     "output_type": "stream",
     "text": [
      "              precision    recall  f1-score   support\n",
      "\n",
      "           0       0.88      0.85      0.86     15004\n",
      "           1       0.85      0.88      0.87     14996\n",
      "\n",
      "    accuracy                           0.86     30000\n",
      "   macro avg       0.87      0.86      0.86     30000\n",
      "weighted avg       0.87      0.86      0.86     30000\n",
      "\n"
     ]
    }
   ],
   "source": [
    "from sklearn.metrics import classification_report\n",
    "print(classification_report(y_test, pred))"
   ]
  },
  {
   "cell_type": "markdown",
   "metadata": {},
   "source": [
    "## Naive Bayes using TF-IDF"
   ]
  },
  {
   "cell_type": "code",
   "execution_count": 80,
   "metadata": {},
   "outputs": [
    {
     "name": "stdout",
     "output_type": "stream",
     "text": [
      "The shape of X :  (100000,)\n",
      "The shape of y :  (100000,)\n"
     ]
    }
   ],
   "source": [
    "# spliting the data into train and test\n",
    "X = final_data['cleanedtext']\n",
    "y = final_data['Score']\n",
    "print('The shape of X : ', X.shape)\n",
    "print('The shape of y : ', y.shape)\n",
    "\n",
    "\n",
    "\n",
    "\n",
    "from sklearn.model_selection import train_test_split\n",
    "X_train, X_test, y_train, y_test = train_test_split(X, y, random_state=42, test_size=0.3)"
   ]
  },
  {
   "cell_type": "code",
   "execution_count": 81,
   "metadata": {},
   "outputs": [
    {
     "name": "stdout",
     "output_type": "stream",
     "text": [
      "the shape of X_train : (70000,)\n",
      "the shape of y_train  (70000,)\n",
      "the shape of X_test  (30000,)\n",
      "the shpa fo y_test  (30000,)\n"
     ]
    }
   ],
   "source": [
    "print('the shape of X_train :',X_train.shape)\n",
    "print('the shape of y_train ', y_train.shape)\n",
    "print('the shape of X_test ',X_test.shape)\n",
    "print('the shpa fo y_test ',y_test.shape)"
   ]
  },
  {
   "cell_type": "code",
   "execution_count": 82,
   "metadata": {},
   "outputs": [
    {
     "data": {
      "text/plain": [
       "<70000x1289594 sparse matrix of type '<class 'numpy.float64'>'\n",
       "\twith 4955625 stored elements in Compressed Sparse Row format>"
      ]
     },
     "execution_count": 82,
     "metadata": {},
     "output_type": "execute_result"
    }
   ],
   "source": [
    "# tf-idf\n",
    "# tf-idf on train data\n",
    "tf_idf_vec = TfidfVectorizer(ngram_range=(1,2))\n",
    "X_train = tf_idf_vec.fit_transform(X_train)\n",
    "X_train"
   ]
  },
  {
   "cell_type": "code",
   "execution_count": 76,
   "metadata": {},
   "outputs": [
    {
     "data": {
      "text/plain": [
       "['aa',\n",
       " 'aa batteries',\n",
       " 'aa best',\n",
       " 'aa dark',\n",
       " 'aa days',\n",
       " 'aa extra',\n",
       " 'aa group',\n",
       " 'aa known',\n",
       " 'aa offering',\n",
       " 'aa quality']"
      ]
     },
     "execution_count": 76,
     "metadata": {},
     "output_type": "execute_result"
    }
   ],
   "source": [
    "feat_name = tf_idf_vec.get_feature_names()\n",
    "# feat_name[:10]"
   ]
  },
  {
   "cell_type": "code",
   "execution_count": 83,
   "metadata": {},
   "outputs": [
    {
     "data": {
      "text/plain": [
       "<30000x1289594 sparse matrix of type '<class 'numpy.float64'>'\n",
       "\twith 1721991 stored elements in Compressed Sparse Row format>"
      ]
     },
     "execution_count": 83,
     "metadata": {},
     "output_type": "execute_result"
    }
   ],
   "source": [
    "# Apply tf-idf to test data to vectorise it\n",
    "X_test = tf_idf_vec.transform(X_test)\n",
    "X_test"
   ]
  },
  {
   "cell_type": "code",
   "execution_count": 84,
   "metadata": {},
   "outputs": [
    {
     "name": "stdout",
     "output_type": "stream",
     "text": [
      "The best alpha : 1.0\n"
     ]
    },
    {
     "data": {
      "text/plain": [
       "Text(0.5, 1.0, 'Misclassification Error vs alpha')"
      ]
     },
     "execution_count": 84,
     "metadata": {},
     "output_type": "execute_result"
    },
    {
     "data": {
      "image/png": "[encoded data removed]",
      "text/plain": [
       "<Figure size 432x288 with 1 Axes>"
      ]
     },
     "metadata": {
      "needs_background": "light"
     },
     "output_type": "display_data"
    }
   ],
   "source": [
    "# Choose best alpha\n",
    "\n",
    "\n",
    "# best_alpha_tfidf, MSE_tfidf = naive_baiyes(X_train, y_train)\n",
    "\n",
    "alpha_value = np.arange(1, 100, 0.5)\n",
    "print(\"The best alpha :\", best_alpha_tfidf)\n",
    "# plot the graph b/w misclassification and alpha_value\n",
    "plt.plot(alpha_values, MSE_tfidf, marker = '*')\n",
    "plt.xlabel(\"value of alpha\")\n",
    "plt.ylabel(\"Misclassification Error\")\n",
    "plt.title(\"Misclassification Error vs alpha\")"
   ]
  },
  {
   "cell_type": "code",
   "execution_count": 86,
   "metadata": {},
   "outputs": [
    {
     "data": {
      "text/plain": [
       "MultinomialNB(alpha=1.0, class_prior=None, fit_prior=True)"
      ]
     },
     "execution_count": 86,
     "metadata": {},
     "output_type": "execute_result"
    }
   ],
   "source": [
    "clf = MultinomialNB(alpha = best_alpha_tfidf)\n",
    "\n",
    "# fit the model \n",
    "clf.fit(X_train, y_train)"
   ]
  },
  {
   "cell_type": "code",
   "execution_count": 87,
   "metadata": {},
   "outputs": [],
   "source": [
    "# predict the value of X_test\n",
    "pred = clf.predict(X_test)"
   ]
  },
  {
   "cell_type": "code",
   "execution_count": 90,
   "metadata": {},
   "outputs": [
    {
     "data": {
      "text/plain": [
       "array([0, 1], dtype=int64)"
      ]
     },
     "execution_count": 90,
     "metadata": {},
     "output_type": "execute_result"
    }
   ],
   "source": [
    "clf.classes_"
   ]
  },
  {
   "cell_type": "code",
   "execution_count": 88,
   "metadata": {},
   "outputs": [
    {
     "name": "stdout",
     "output_type": "stream",
     "text": [
      "(2, 1289594)\n"
     ]
    },
    {
     "data": {
      "text/plain": [
       "array([[-13.49881402, -14.14673573, -14.25318071, ..., -14.25318071,\n",
       "        -14.25318071, -14.25318071],\n",
       "       [-13.58398242, -14.24697806, -13.94552048, ..., -14.11112767,\n",
       "        -14.02837827, -14.02837827]])"
      ]
     },
     "execution_count": 88,
     "metadata": {},
     "output_type": "execute_result"
    }
   ],
   "source": [
    "feat_log_prob = clf.feature_log_prob_\n",
    "print(feat_log_prob.shape)\n",
    "feat_log_prob"
   ]
  },
  {
   "cell_type": "code",
   "execution_count": 89,
   "metadata": {},
   "outputs": [
    {
     "data": {
      "text/plain": [
       "(1289594, 2)"
      ]
     },
     "execution_count": 89,
     "metadata": {},
     "output_type": "execute_result"
    }
   ],
   "source": [
    "\n",
    "feat_prob = pd.DataFrame(feat_log_prob, columns=feat_name)\n",
    "feat_prob = feat_prob.T\n",
    "feat_prob.shape"
   ]
  },
  {
   "cell_type": "code",
   "execution_count": 92,
   "metadata": {},
   "outputs": [
    {
     "name": "stdout",
     "output_type": "stream",
     "text": [
      "Top 10 negative :-\n",
      " like      -7.968088\n",
      "taste     -8.086648\n",
      "product   -8.091987\n",
      "would     -8.236145\n",
      "coffee    -8.312742\n",
      "one       -8.374128\n",
      "flavor    -8.482892\n",
      "good      -8.549781\n",
      "tea       -8.613534\n",
      "buy       -8.646743\n",
      "Name: 0, dtype: float64\n",
      "\n",
      "Top 10 positive :-\n",
      " great     -7.957248\n",
      "good      -8.092442\n",
      "love      -8.223722\n",
      "coffee    -8.224002\n",
      "tea       -8.229655\n",
      "like      -8.236271\n",
      "flavor    -8.456928\n",
      "one       -8.460765\n",
      "taste     -8.465049\n",
      "product   -8.468108\n",
      "Name: 1, dtype: float64\n"
     ]
    }
   ],
   "source": [
    "# print the top 10 positive and negative word\n",
    "print(\"Top 10 negative :-\\n\",feat_prob[0].sort_values(ascending=False)[:10])\n",
    "print()\n",
    "print(\"Top 10 positive :-\\n\",feat_prob[1].sort_values(ascending=False)[:10])\n"
   ]
  },
  {
   "cell_type": "code",
   "execution_count": 98,
   "metadata": {},
   "outputs": [
    {
     "name": "stdout",
     "output_type": "stream",
     "text": [
      "Accuracy on train data :-  97.39999999999999\n",
      "Error on train data:-  2.6000000000000023\n"
     ]
    }
   ],
   "source": [
    "# Accuracy on train data\n",
    "train_acc_tfidf = clf.score(X_train, y_train)\n",
    "print(\"Accuracy on train data :- \", train_acc_tfidf*100)\n",
    "\n",
    "# Error on train data\n",
    "train_err_tfidf = 1 - train_acc_tfidf\n",
    "print(\"Error on train data:- \", train_err_tfidf*100)\n"
   ]
  },
  {
   "cell_type": "code",
   "execution_count": 97,
   "metadata": {},
   "outputs": [
    {
     "name": "stdout",
     "output_type": "stream",
     "text": [
      "Accuracy on test data:-  88.92333333333333\n"
     ]
    }
   ],
   "source": [
    "# Accuracy on test data\n",
    "test_acc_tfidf = accuracy_score(pred, y_test)\n",
    "print(\"Accuracy on test data:- \", test_acc_tfidf*100)"
   ]
  },
  {
   "cell_type": "code",
   "execution_count": 99,
   "metadata": {},
   "outputs": [
    {
     "data": {
      "text/plain": [
       "array([[13295,  1709],\n",
       "       [ 1614, 13382]], dtype=int64)"
      ]
     },
     "execution_count": 99,
     "metadata": {},
     "output_type": "execute_result"
    }
   ],
   "source": [
    "# confusion matrix\n",
    "confusion_mat = confusion_matrix(y_test, pred)\n",
    "confusion_mat"
   ]
  },
  {
   "cell_type": "code",
   "execution_count": 101,
   "metadata": {},
   "outputs": [
    {
     "name": "stdout",
     "output_type": "stream",
     "text": [
      "              precision    recall  f1-score   support\n",
      "\n",
      "           0       0.89      0.89      0.89     15004\n",
      "           1       0.89      0.89      0.89     14996\n",
      "\n",
      "    accuracy                           0.89     30000\n",
      "   macro avg       0.89      0.89      0.89     30000\n",
      "weighted avg       0.89      0.89      0.89     30000\n",
      "\n"
     ]
    }
   ],
   "source": [
    "# classification report \n",
    "# precision recall f1-score\n",
    "print(classification_report(y_test, pred))"
   ]
  },
  {
   "cell_type": "code",
   "execution_count": 105,
   "metadata": {},
   "outputs": [
    {
     "data": {
      "image/png": "[encoded data removed]",
      "text/plain": [
       "<Figure size 432x288 with 2 Axes>"
      ]
     },
     "metadata": {
      "needs_background": "light"
     },
     "output_type": "display_data"
    }
   ],
   "source": [
    "class_label = [\"negative\", \"positive\"]\n",
    "conf_mat = pd.DataFrame(confusion_mat, index=class_label, columns=class_label)\n",
    "sns.heatmap(conf_mat, annot= True, fmt = \"d\")\n",
    "plt.title(\"Confusion Matrix\")\n",
    "plt.xlabel(\"Predicted Label\")\n",
    "plt.ylabel(\"True Label\")\n",
    "plt.show()"
   ]
  },
  {
   "cell_type": "code",
   "execution_count": 109,
   "metadata": {},
   "outputs": [
    {
     "data": {
      "text/plain": [
       "<sklearn.metrics._plot.confusion_matrix.ConfusionMatrixDisplay at 0x3ed72b90>"
      ]
     },
     "execution_count": 109,
     "metadata": {},
     "output_type": "execute_result"
    },
    {
     "data": {
      "image/png": "[encoded data removed]",
      "text/plain": [
       "<Figure size 432x288 with 2 Axes>"
      ]
     },
     "metadata": {
      "needs_background": "light"
     },
     "output_type": "display_data"
    }
   ],
   "source": [
    "from sklearn.metrics import plot_confusion_matrix\n",
    "plot_confusion_matrix(clf, X_test, y_test,\n",
    "                                 display_labels=class_label,\n",
    "                                 cmap=plt.cm.Blues\n",
    "                                 )"
   ]
  },
  {
   "cell_type": "markdown",
   "metadata": {},
   "source": [
    "### Bi-grams and n-Grams"
   ]
  },
  {
   "cell_type": "code",
   "execution_count": 36,
   "metadata": {},
   "outputs": [
    {
     "name": "stdout",
     "output_type": "stream",
     "text": [
      "(4986, 139094)\n",
      "['aa', 'aa sumatra', 'aahhhs', 'aahhhs get', 'aback', 'aback brand', 'abandon', 'abates', 'abates steeping', 'abbott']\n"
     ]
    }
   ],
   "source": [
    "#bi-grams, tri-gram and n-gram\n",
    "\n",
    "# removing stopwords like 'not' should be avoided before building n-gram\n",
    "\n",
    "count_vect = CountVectorizer(ngram_range=(1,2))\n",
    "final_bigram = count_vect.fit_transform(preprocessed_reviews)\n",
    "\n",
    "print(final_bigram.get_shape())\n",
    "print(count_vect.get_feature_names()[:10])"
   ]
  },
  {
   "cell_type": "markdown",
   "metadata": {},
   "source": [
    "### TF-IDF"
   ]
  },
  {
   "cell_type": "code",
   "execution_count": 46,
   "metadata": {},
   "outputs": [
    {
     "name": "stdout",
     "output_type": "stream",
     "text": [
      "(4986, 139094)\n",
      "['aa', 'aa sumatra', 'aahhhs', 'aahhhs get', 'aback', 'aback brand', 'abandon', 'abates', 'abates steeping', 'abbott']\n"
     ]
    }
   ],
   "source": [
    "# term frequency : \n",
    "# inverse document frequency\n",
    "\n",
    "tf_idf_vect = TfidfVectorizer(ngram_range=(1,2))\n",
    "final_tf_idf = tf_idf_vect.fit_transform(preprocessed_reviews)\n",
    "\n",
    "print(final_tf_idf.get_shape())\n",
    "features =  tf_idf_vect.get_feature_names()\n",
    "print(features[:10])"
   ]
  },
  {
   "cell_type": "code",
   "execution_count": 47,
   "metadata": {},
   "outputs": [
    {
     "name": "stdout",
     "output_type": "stream",
     "text": [
      "[0. 0. 0. ... 0. 0. 0.]\n",
      "139094\n"
     ]
    }
   ],
   "source": [
    "# convert a row in sparsematrix to numpy array\n",
    "sparse = final_tf_idf[2,:].toarray()[0]\n",
    "print(sparse)\n",
    "print(len(sparse))"
   ]
  },
  {
   "cell_type": "code",
   "execution_count": 48,
   "metadata": {},
   "outputs": [],
   "source": [
    "def top_tfidf_feats(row, features, top_n=25):\n",
    "    ''' Get top n tfidf values in row and return them with their corresponding feature names.'''\n",
    "    topn_ids = np.argsort(row)[::-1][:top_n]\n",
    "    top_feats = [(features[i], row[i]) for i in topn_ids]\n",
    "    df = pd.DataFrame(top_feats)\n",
    "    df.columns = ['feature', 'tfidf']\n",
    "    return df\n",
    "\n",
    "top_tfidf = top_tfidf_feats(sparse, features, 25)"
   ]
  },
  {
   "cell_type": "code",
   "execution_count": 49,
   "metadata": {},
   "outputs": [
    {
     "data": {
      "text/html": [
       "<div>\n",
       "<style scoped>\n",
       "    .dataframe tbody tr th:only-of-type {\n",
       "        vertical-align: middle;\n",
       "    }\n",
       "\n",
       "    .dataframe tbody tr th {\n",
       "        vertical-align: top;\n",
       "    }\n",
       "\n",
       "    .dataframe thead th {\n",
       "        text-align: right;\n",
       "    }\n",
       "</style>\n",
       "<table border=\"1\" class=\"dataframe\">\n",
       "  <thead>\n",
       "    <tr style=\"text-align: right;\">\n",
       "      <th></th>\n",
       "      <th>feature</th>\n",
       "      <th>tfidf</th>\n",
       "    </tr>\n",
       "  </thead>\n",
       "  <tbody>\n",
       "    <tr>\n",
       "      <td>0</td>\n",
       "      <td>printed</td>\n",
       "      <td>0.223244</td>\n",
       "    </tr>\n",
       "    <tr>\n",
       "      <td>1</td>\n",
       "      <td>windows</td>\n",
       "      <td>0.198860</td>\n",
       "    </tr>\n",
       "    <tr>\n",
       "      <td>2</td>\n",
       "      <td>windows everywhere</td>\n",
       "      <td>0.130098</td>\n",
       "    </tr>\n",
       "    <tr>\n",
       "      <td>3</td>\n",
       "      <td>shop program</td>\n",
       "      <td>0.130098</td>\n",
       "    </tr>\n",
       "    <tr>\n",
       "      <td>4</td>\n",
       "      <td>product windows</td>\n",
       "      <td>0.130098</td>\n",
       "    </tr>\n",
       "    <tr>\n",
       "      <td>5</td>\n",
       "      <td>car windows</td>\n",
       "      <td>0.130098</td>\n",
       "    </tr>\n",
       "    <tr>\n",
       "      <td>6</td>\n",
       "      <td>designed signs</td>\n",
       "      <td>0.130098</td>\n",
       "    </tr>\n",
       "    <tr>\n",
       "      <td>7</td>\n",
       "      <td>windows printed</td>\n",
       "      <td>0.130098</td>\n",
       "    </tr>\n",
       "    <tr>\n",
       "      <td>8</td>\n",
       "      <td>printed reverse</td>\n",
       "      <td>0.130098</td>\n",
       "    </tr>\n",
       "    <tr>\n",
       "      <td>9</td>\n",
       "      <td>printed beautifully</td>\n",
       "      <td>0.130098</td>\n",
       "    </tr>\n",
       "    <tr>\n",
       "      <td>10</td>\n",
       "      <td>print shop</td>\n",
       "      <td>0.130098</td>\n",
       "    </tr>\n",
       "    <tr>\n",
       "      <td>11</td>\n",
       "      <td>shipment could</td>\n",
       "      <td>0.130098</td>\n",
       "    </tr>\n",
       "    <tr>\n",
       "      <td>12</td>\n",
       "      <td>fun product</td>\n",
       "      <td>0.130098</td>\n",
       "    </tr>\n",
       "    <tr>\n",
       "      <td>13</td>\n",
       "      <td>instead stickers</td>\n",
       "      <td>0.130098</td>\n",
       "    </tr>\n",
       "    <tr>\n",
       "      <td>14</td>\n",
       "      <td>screens computer</td>\n",
       "      <td>0.130098</td>\n",
       "    </tr>\n",
       "    <tr>\n",
       "      <td>15</td>\n",
       "      <td>signs printed</td>\n",
       "      <td>0.130098</td>\n",
       "    </tr>\n",
       "    <tr>\n",
       "      <td>16</td>\n",
       "      <td>reverse use</td>\n",
       "      <td>0.130098</td>\n",
       "    </tr>\n",
       "    <tr>\n",
       "      <td>17</td>\n",
       "      <td>going lot</td>\n",
       "      <td>0.130098</td>\n",
       "    </tr>\n",
       "    <tr>\n",
       "      <td>18</td>\n",
       "      <td>daughter designed</td>\n",
       "      <td>0.130098</td>\n",
       "    </tr>\n",
       "    <tr>\n",
       "      <td>19</td>\n",
       "      <td>love slickers</td>\n",
       "      <td>0.130098</td>\n",
       "    </tr>\n",
       "    <tr>\n",
       "      <td>20</td>\n",
       "      <td>use car</td>\n",
       "      <td>0.130098</td>\n",
       "    </tr>\n",
       "    <tr>\n",
       "      <td>21</td>\n",
       "      <td>monitors</td>\n",
       "      <td>0.130098</td>\n",
       "    </tr>\n",
       "    <tr>\n",
       "      <td>22</td>\n",
       "      <td>tv screens</td>\n",
       "      <td>0.130098</td>\n",
       "    </tr>\n",
       "    <tr>\n",
       "      <td>23</td>\n",
       "      <td>easily daughter</td>\n",
       "      <td>0.130098</td>\n",
       "    </tr>\n",
       "    <tr>\n",
       "      <td>24</td>\n",
       "      <td>call instead</td>\n",
       "      <td>0.130098</td>\n",
       "    </tr>\n",
       "  </tbody>\n",
       "</table>\n",
       "</div>"
      ],
      "text/plain": [
       "                feature     tfidf\n",
       "0               printed  0.223244\n",
       "1               windows  0.198860\n",
       "2    windows everywhere  0.130098\n",
       "3          shop program  0.130098\n",
       "4       product windows  0.130098\n",
       "5           car windows  0.130098\n",
       "6        designed signs  0.130098\n",
       "7       windows printed  0.130098\n",
       "8       printed reverse  0.130098\n",
       "9   printed beautifully  0.130098\n",
       "10           print shop  0.130098\n",
       "11       shipment could  0.130098\n",
       "12          fun product  0.130098\n",
       "13     instead stickers  0.130098\n",
       "14     screens computer  0.130098\n",
       "15        signs printed  0.130098\n",
       "16          reverse use  0.130098\n",
       "17            going lot  0.130098\n",
       "18    daughter designed  0.130098\n",
       "19        love slickers  0.130098\n",
       "20              use car  0.130098\n",
       "21             monitors  0.130098\n",
       "22           tv screens  0.130098\n",
       "23      easily daughter  0.130098\n",
       "24         call instead  0.130098"
      ]
     },
     "execution_count": 49,
     "metadata": {},
     "output_type": "execute_result"
    }
   ],
   "source": [
    "top_tfidf"
   ]
  },
  {
   "cell_type": "markdown",
   "metadata": {},
   "source": [
    "### Word2Vec"
   ]
  },
  {
   "cell_type": "code",
   "execution_count": 50,
   "metadata": {},
   "outputs": [
    {
     "data": {
      "text/plain": [
       "4986"
      ]
     },
     "execution_count": 50,
     "metadata": {},
     "output_type": "execute_result"
    }
   ],
   "source": [
    "# Train your own Word2Vec model using your own text corpus\n",
    "list_of_sentence = []\n",
    "for sentence in preprocessed_reviews:\n",
    "    list_of_sentence.append(sentence.split())\n",
    "len(list_of_sentence)"
   ]
  },
  {
   "cell_type": "code",
   "execution_count": 52,
   "metadata": {},
   "outputs": [],
   "source": [
    "import gensim\n",
    "w2v_model = gensim.models.Word2Vec(list_of_sentence, min_count=5, size=50, \n",
    "                                   workers=4)"
   ]
  },
  {
   "cell_type": "code",
   "execution_count": 60,
   "metadata": {},
   "outputs": [
    {
     "name": "stdout",
     "output_type": "stream",
     "text": [
      "3836\n",
      "['product', 'available', 'course', 'total', 'pretty', 'stinky', 'right', 'nearby', 'used', 'ca', 'beat', 'great', 'received', 'shipment', 'could', 'hardly', 'wait', 'try', 'love', 'call', 'instead', 'removed', 'easily', 'daughter', 'designed', 'printed', 'use', 'car', 'windows', 'beautifully', 'shop', 'program', 'going', 'lot', 'fun', 'everywhere', 'like', 'tv', 'computer', 'really', 'good', 'idea', 'final', 'outstanding', 'window', 'everybody', 'asks', 'bought', 'made', 'two']\n"
     ]
    }
   ],
   "source": [
    "words = list(w2v_model.wv.vocab)\n",
    "print(len(words))\n",
    "print(words[:50])"
   ]
  },
  {
   "cell_type": "code",
   "execution_count": 54,
   "metadata": {},
   "outputs": [
    {
     "data": {
      "text/plain": [
       "[('snack', 0.9984371066093445),\n",
       " ('crisp', 0.9983736276626587),\n",
       " ('crispy', 0.9983733892440796),\n",
       " ('fried', 0.998332679271698),\n",
       " ('artificial', 0.9983131289482117),\n",
       " ('light', 0.9982814788818359),\n",
       " ('greasy', 0.9982805848121643),\n",
       " ('texture', 0.9982209801673889),\n",
       " ('crunch', 0.9982200264930725),\n",
       " ('love', 0.9982093572616577)]"
      ]
     },
     "execution_count": 54,
     "metadata": {},
     "output_type": "execute_result"
    }
   ],
   "source": [
    "w2v_model.wv.most_similar('tasty')"
   ]
  },
  {
   "cell_type": "code",
   "execution_count": 55,
   "metadata": {},
   "outputs": [
    {
     "data": {
      "text/plain": [
       "[('sweet', 0.9967730045318604),\n",
       " ('taste', 0.9951509833335876),\n",
       " ('tastes', 0.9922884702682495),\n",
       " ('flavor', 0.9918922185897827),\n",
       " ('strong', 0.9913098216056824),\n",
       " ('milk', 0.9854931831359863),\n",
       " ('bitter', 0.9852263331413269),\n",
       " ('add', 0.9842127561569214),\n",
       " ('chocolate', 0.9839362502098083),\n",
       " ('green', 0.9835146069526672)]"
      ]
     },
     "execution_count": 55,
     "metadata": {},
     "output_type": "execute_result"
    }
   ],
   "source": [
    "w2v_model.wv.most_similar('like')"
   ]
  },
  {
   "cell_type": "code",
   "execution_count": 56,
   "metadata": {},
   "outputs": [
    {
     "data": {
      "text/plain": [
       "68140"
      ]
     },
     "execution_count": 56,
     "metadata": {},
     "output_type": "execute_result"
    }
   ],
   "source": [
    "count_vect_feat = count_vect.get_feature_names()\n",
    "count_vect_feat.index('like')"
   ]
  },
  {
   "cell_type": "code",
   "execution_count": 58,
   "metadata": {},
   "outputs": [
    {
     "data": {
      "text/plain": [
       "'like'"
      ]
     },
     "execution_count": 58,
     "metadata": {},
     "output_type": "execute_result"
    }
   ],
   "source": [
    "count_vect_feat[68140]"
   ]
  },
  {
   "cell_type": "markdown",
   "metadata": {},
   "source": [
    "### Avg W2V, TFIDF-W2V"
   ]
  },
  {
   "cell_type": "code",
   "execution_count": 63,
   "metadata": {},
   "outputs": [
    {
     "name": "stdout",
     "output_type": "stream",
     "text": [
      "4986\n",
      "50\n"
     ]
    }
   ],
   "source": [
    "sentence_vec = []\n",
    "for sentence in preprocessed_reviews:\n",
    "    count_word = 0\n",
    "    sent_vector = np.zeros(50)\n",
    "    for word in sentence:\n",
    "        try:\n",
    "            vec = w2v_model.wv[word]\n",
    "            sent_vector += vec\n",
    "            count_word += 1\n",
    "        except:\n",
    "            pass\n",
    "    sent_vector /= count_word\n",
    "    sentence_vec.append(sent_vector)\n",
    "print(len(sentence_vec))\n",
    "print(len(sentence_vec[0]))"
   ]
  },
  {
   "cell_type": "code",
   "execution_count": null,
   "metadata": {},
   "outputs": [],
   "source": []
  }
 ],
 "metadata": {
  "kernelspec": {
   "display_name": "Python 3",
   "language": "python",
   "name": "python3"
  },
  "language_info": {
   "codemirror_mode": {
    "name": "ipython",
    "version": 3
   },
   "file_extension": ".py",
   "mimetype": "text/x-python",
   "name": "python",
   "nbconvert_exporter": "python",
   "pygments_lexer": "ipython3",
   "version": "3.7.2"
  }
 },
 "nbformat": 4,
 "nbformat_minor": 2
}
